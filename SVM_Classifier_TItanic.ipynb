{
  "nbformat": 4,
  "nbformat_minor": 0,
  "metadata": {
    "colab": {
      "name": "SVM-Classifier-TItanic",
      "provenance": [],
      "collapsed_sections": []
    },
    "kernelspec": {
      "name": "python3",
      "display_name": "Python 3"
    }
  },
  "cells": [
    {
      "cell_type": "markdown",
      "metadata": {
        "id": "k5ThGIIjeJ4y",
        "colab_type": "text"
      },
      "source": [
        "In this assignment we are supposed to apply SVM i.e. Support vector machine algorithm to train the model to predict the survivor rate. As earlier assignments we ahve applied different algorithms now after applying this algorithm we are supposed to compare all the algorithms based on the results."
      ]
    },
    {
      "cell_type": "code",
      "metadata": {
        "id": "Hbr-q-6NdYpt",
        "colab_type": "code",
        "colab": {}
      },
      "source": [
        "#Import the libraries\n",
        "import numpy as np\n",
        "import pandas as pd\n",
        "import matplotlib.pyplot as plt\n",
        "import seaborn as sns"
      ],
      "execution_count": 59,
      "outputs": []
    },
    {
      "cell_type": "code",
      "metadata": {
        "id": "mcAnpcJKdtE7",
        "colab_type": "code",
        "colab": {}
      },
      "source": [
        "#Importing datasets\n",
        "train_data = pd.read_csv(\"train_data.csv\")\n",
        "test_data = pd.read_csv(\"test_data.csv\")"
      ],
      "execution_count": 60,
      "outputs": []
    },
    {
      "cell_type": "code",
      "metadata": {
        "id": "e-7z7q8pUiKr",
        "colab_type": "code",
        "colab": {
          "base_uri": "https://localhost:8080/",
          "height": 232
        },
        "outputId": "fd00075e-3843-4f85-e307-66c1b4362421"
      },
      "source": [
        "#Top 5 rows of the training dataset\n",
        "train_data.head()"
      ],
      "execution_count": 61,
      "outputs": [
        {
          "output_type": "execute_result",
          "data": {
            "text/html": [
              "<div>\n",
              "<style scoped>\n",
              "    .dataframe tbody tr th:only-of-type {\n",
              "        vertical-align: middle;\n",
              "    }\n",
              "\n",
              "    .dataframe tbody tr th {\n",
              "        vertical-align: top;\n",
              "    }\n",
              "\n",
              "    .dataframe thead th {\n",
              "        text-align: right;\n",
              "    }\n",
              "</style>\n",
              "<table border=\"1\" class=\"dataframe\">\n",
              "  <thead>\n",
              "    <tr style=\"text-align: right;\">\n",
              "      <th></th>\n",
              "      <th>Unnamed: 0</th>\n",
              "      <th>PassengerId</th>\n",
              "      <th>Survived</th>\n",
              "      <th>Sex</th>\n",
              "      <th>Age</th>\n",
              "      <th>Fare</th>\n",
              "      <th>Pclass_1</th>\n",
              "      <th>Pclass_2</th>\n",
              "      <th>Pclass_3</th>\n",
              "      <th>Family_size</th>\n",
              "      <th>Title_1</th>\n",
              "      <th>Title_2</th>\n",
              "      <th>Title_3</th>\n",
              "      <th>Title_4</th>\n",
              "      <th>Emb_1</th>\n",
              "      <th>Emb_2</th>\n",
              "      <th>Emb_3</th>\n",
              "    </tr>\n",
              "  </thead>\n",
              "  <tbody>\n",
              "    <tr>\n",
              "      <th>0</th>\n",
              "      <td>0</td>\n",
              "      <td>1</td>\n",
              "      <td>0</td>\n",
              "      <td>1</td>\n",
              "      <td>0.2750</td>\n",
              "      <td>0.014151</td>\n",
              "      <td>0</td>\n",
              "      <td>0</td>\n",
              "      <td>1</td>\n",
              "      <td>0.1</td>\n",
              "      <td>1</td>\n",
              "      <td>0</td>\n",
              "      <td>0</td>\n",
              "      <td>0</td>\n",
              "      <td>0</td>\n",
              "      <td>0</td>\n",
              "      <td>1</td>\n",
              "    </tr>\n",
              "    <tr>\n",
              "      <th>1</th>\n",
              "      <td>1</td>\n",
              "      <td>2</td>\n",
              "      <td>1</td>\n",
              "      <td>0</td>\n",
              "      <td>0.4750</td>\n",
              "      <td>0.139136</td>\n",
              "      <td>1</td>\n",
              "      <td>0</td>\n",
              "      <td>0</td>\n",
              "      <td>0.1</td>\n",
              "      <td>1</td>\n",
              "      <td>0</td>\n",
              "      <td>0</td>\n",
              "      <td>0</td>\n",
              "      <td>1</td>\n",
              "      <td>0</td>\n",
              "      <td>0</td>\n",
              "    </tr>\n",
              "    <tr>\n",
              "      <th>2</th>\n",
              "      <td>2</td>\n",
              "      <td>3</td>\n",
              "      <td>1</td>\n",
              "      <td>0</td>\n",
              "      <td>0.3250</td>\n",
              "      <td>0.015469</td>\n",
              "      <td>0</td>\n",
              "      <td>0</td>\n",
              "      <td>1</td>\n",
              "      <td>0.0</td>\n",
              "      <td>0</td>\n",
              "      <td>0</td>\n",
              "      <td>0</td>\n",
              "      <td>1</td>\n",
              "      <td>0</td>\n",
              "      <td>0</td>\n",
              "      <td>1</td>\n",
              "    </tr>\n",
              "    <tr>\n",
              "      <th>3</th>\n",
              "      <td>3</td>\n",
              "      <td>4</td>\n",
              "      <td>1</td>\n",
              "      <td>0</td>\n",
              "      <td>0.4375</td>\n",
              "      <td>0.103644</td>\n",
              "      <td>1</td>\n",
              "      <td>0</td>\n",
              "      <td>0</td>\n",
              "      <td>0.1</td>\n",
              "      <td>1</td>\n",
              "      <td>0</td>\n",
              "      <td>0</td>\n",
              "      <td>0</td>\n",
              "      <td>0</td>\n",
              "      <td>0</td>\n",
              "      <td>1</td>\n",
              "    </tr>\n",
              "    <tr>\n",
              "      <th>4</th>\n",
              "      <td>4</td>\n",
              "      <td>5</td>\n",
              "      <td>0</td>\n",
              "      <td>1</td>\n",
              "      <td>0.4375</td>\n",
              "      <td>0.015713</td>\n",
              "      <td>0</td>\n",
              "      <td>0</td>\n",
              "      <td>1</td>\n",
              "      <td>0.0</td>\n",
              "      <td>1</td>\n",
              "      <td>0</td>\n",
              "      <td>0</td>\n",
              "      <td>0</td>\n",
              "      <td>0</td>\n",
              "      <td>0</td>\n",
              "      <td>1</td>\n",
              "    </tr>\n",
              "  </tbody>\n",
              "</table>\n",
              "</div>"
            ],
            "text/plain": [
              "   Unnamed: 0  PassengerId  Survived  Sex  ...  Title_4  Emb_1  Emb_2  Emb_3\n",
              "0           0            1         0    1  ...        0      0      0      1\n",
              "1           1            2         1    0  ...        0      1      0      0\n",
              "2           2            3         1    0  ...        1      0      0      1\n",
              "3           3            4         1    0  ...        0      0      0      1\n",
              "4           4            5         0    1  ...        0      0      0      1\n",
              "\n",
              "[5 rows x 17 columns]"
            ]
          },
          "metadata": {
            "tags": []
          },
          "execution_count": 61
        }
      ]
    },
    {
      "cell_type": "code",
      "metadata": {
        "id": "HhZwknWgUlFN",
        "colab_type": "code",
        "colab": {
          "base_uri": "https://localhost:8080/",
          "height": 232
        },
        "outputId": "2c552646-57b8-4ed2-af1e-0f79719fbf7b"
      },
      "source": [
        "#Top 5 rows of the test dataset\n",
        "test_data.head()"
      ],
      "execution_count": 62,
      "outputs": [
        {
          "output_type": "execute_result",
          "data": {
            "text/html": [
              "<div>\n",
              "<style scoped>\n",
              "    .dataframe tbody tr th:only-of-type {\n",
              "        vertical-align: middle;\n",
              "    }\n",
              "\n",
              "    .dataframe tbody tr th {\n",
              "        vertical-align: top;\n",
              "    }\n",
              "\n",
              "    .dataframe thead th {\n",
              "        text-align: right;\n",
              "    }\n",
              "</style>\n",
              "<table border=\"1\" class=\"dataframe\">\n",
              "  <thead>\n",
              "    <tr style=\"text-align: right;\">\n",
              "      <th></th>\n",
              "      <th>Unnamed: 0</th>\n",
              "      <th>PassengerId</th>\n",
              "      <th>Survived</th>\n",
              "      <th>Sex</th>\n",
              "      <th>Age</th>\n",
              "      <th>Fare</th>\n",
              "      <th>Pclass_1</th>\n",
              "      <th>Pclass_2</th>\n",
              "      <th>Pclass_3</th>\n",
              "      <th>Family_size</th>\n",
              "      <th>Title_1</th>\n",
              "      <th>Title_2</th>\n",
              "      <th>Title_3</th>\n",
              "      <th>Title_4</th>\n",
              "      <th>Emb_1</th>\n",
              "      <th>Emb_2</th>\n",
              "      <th>Emb_3</th>\n",
              "    </tr>\n",
              "  </thead>\n",
              "  <tbody>\n",
              "    <tr>\n",
              "      <th>0</th>\n",
              "      <td>791</td>\n",
              "      <td>792</td>\n",
              "      <td>0</td>\n",
              "      <td>1</td>\n",
              "      <td>0.2000</td>\n",
              "      <td>0.050749</td>\n",
              "      <td>0</td>\n",
              "      <td>1</td>\n",
              "      <td>0</td>\n",
              "      <td>0.0</td>\n",
              "      <td>1</td>\n",
              "      <td>0</td>\n",
              "      <td>0</td>\n",
              "      <td>0</td>\n",
              "      <td>0</td>\n",
              "      <td>0</td>\n",
              "      <td>1</td>\n",
              "    </tr>\n",
              "    <tr>\n",
              "      <th>1</th>\n",
              "      <td>792</td>\n",
              "      <td>793</td>\n",
              "      <td>0</td>\n",
              "      <td>0</td>\n",
              "      <td>0.3500</td>\n",
              "      <td>0.135753</td>\n",
              "      <td>0</td>\n",
              "      <td>0</td>\n",
              "      <td>1</td>\n",
              "      <td>1.0</td>\n",
              "      <td>0</td>\n",
              "      <td>0</td>\n",
              "      <td>0</td>\n",
              "      <td>1</td>\n",
              "      <td>0</td>\n",
              "      <td>0</td>\n",
              "      <td>1</td>\n",
              "    </tr>\n",
              "    <tr>\n",
              "      <th>2</th>\n",
              "      <td>793</td>\n",
              "      <td>794</td>\n",
              "      <td>0</td>\n",
              "      <td>1</td>\n",
              "      <td>0.3500</td>\n",
              "      <td>0.059914</td>\n",
              "      <td>1</td>\n",
              "      <td>0</td>\n",
              "      <td>0</td>\n",
              "      <td>0.0</td>\n",
              "      <td>1</td>\n",
              "      <td>0</td>\n",
              "      <td>0</td>\n",
              "      <td>0</td>\n",
              "      <td>1</td>\n",
              "      <td>0</td>\n",
              "      <td>0</td>\n",
              "    </tr>\n",
              "    <tr>\n",
              "      <th>3</th>\n",
              "      <td>794</td>\n",
              "      <td>795</td>\n",
              "      <td>0</td>\n",
              "      <td>1</td>\n",
              "      <td>0.3125</td>\n",
              "      <td>0.015412</td>\n",
              "      <td>0</td>\n",
              "      <td>0</td>\n",
              "      <td>1</td>\n",
              "      <td>0.0</td>\n",
              "      <td>1</td>\n",
              "      <td>0</td>\n",
              "      <td>0</td>\n",
              "      <td>0</td>\n",
              "      <td>0</td>\n",
              "      <td>0</td>\n",
              "      <td>1</td>\n",
              "    </tr>\n",
              "    <tr>\n",
              "      <th>4</th>\n",
              "      <td>795</td>\n",
              "      <td>796</td>\n",
              "      <td>0</td>\n",
              "      <td>1</td>\n",
              "      <td>0.4875</td>\n",
              "      <td>0.025374</td>\n",
              "      <td>0</td>\n",
              "      <td>1</td>\n",
              "      <td>0</td>\n",
              "      <td>0.0</td>\n",
              "      <td>1</td>\n",
              "      <td>0</td>\n",
              "      <td>0</td>\n",
              "      <td>0</td>\n",
              "      <td>0</td>\n",
              "      <td>0</td>\n",
              "      <td>1</td>\n",
              "    </tr>\n",
              "  </tbody>\n",
              "</table>\n",
              "</div>"
            ],
            "text/plain": [
              "   Unnamed: 0  PassengerId  Survived  Sex  ...  Title_4  Emb_1  Emb_2  Emb_3\n",
              "0         791          792         0    1  ...        0      0      0      1\n",
              "1         792          793         0    0  ...        1      0      0      1\n",
              "2         793          794         0    1  ...        0      1      0      0\n",
              "3         794          795         0    1  ...        0      0      0      1\n",
              "4         795          796         0    1  ...        0      0      0      1\n",
              "\n",
              "[5 rows x 17 columns]"
            ]
          },
          "metadata": {
            "tags": []
          },
          "execution_count": 62
        }
      ]
    },
    {
      "cell_type": "code",
      "metadata": {
        "id": "aTqVdlH8UoiM",
        "colab_type": "code",
        "colab": {
          "base_uri": "https://localhost:8080/",
          "height": 252
        },
        "outputId": "e01e7087-51a8-41ef-8711-d0d9e2346c9e"
      },
      "source": [
        "#Information of training data\n",
        "train_data.info"
      ],
      "execution_count": 63,
      "outputs": [
        {
          "output_type": "execute_result",
          "data": {
            "text/plain": [
              "<bound method DataFrame.info of      Unnamed: 0  PassengerId  Survived  Sex  ...  Title_4  Emb_1  Emb_2  Emb_3\n",
              "0             0            1         0    1  ...        0      0      0      1\n",
              "1             1            2         1    0  ...        0      1      0      0\n",
              "2             2            3         1    0  ...        1      0      0      1\n",
              "3             3            4         1    0  ...        0      0      0      1\n",
              "4             4            5         0    1  ...        0      0      0      1\n",
              "..          ...          ...       ...  ...  ...      ...    ...    ...    ...\n",
              "787         787          788         0    1  ...        0      0      1      0\n",
              "788         788          789         1    1  ...        0      0      0      1\n",
              "789         789          790         0    1  ...        0      1      0      0\n",
              "790         790          791         0    1  ...        0      0      1      0\n",
              "791         791          792         0    1  ...        0      0      0      1\n",
              "\n",
              "[792 rows x 17 columns]>"
            ]
          },
          "metadata": {
            "tags": []
          },
          "execution_count": 63
        }
      ]
    },
    {
      "cell_type": "code",
      "metadata": {
        "id": "Wf7PC2tYdu9J",
        "colab_type": "code",
        "colab": {}
      },
      "source": [
        "#Dropping unproductive table\n",
        "train_data.drop(\"Unnamed: 0\",axis=1, inplace= True)\n",
        "test_data.drop(\"Unnamed: 0\",axis=1, inplace= True)\n",
        "train_data.drop(\"PassengerId\",axis=1, inplace= True)\n",
        "test_data.drop(\"PassengerId\",axis=1, inplace= True)"
      ],
      "execution_count": 64,
      "outputs": []
    },
    {
      "cell_type": "code",
      "metadata": {
        "id": "eUZmnmu2gWi0",
        "colab_type": "code",
        "colab": {}
      },
      "source": [
        "#Spliting datasets into dependent & independent variable\n",
        "X_train = train_data.drop(\"Survived\", axis=1)\n",
        "y_train = train_data[\"Survived\"]\n",
        "X_test = test_data.drop(\"Survived\", axis=1)\n",
        "y_test = test_data[\"Survived\"]"
      ],
      "execution_count": 65,
      "outputs": []
    },
    {
      "cell_type": "code",
      "metadata": {
        "id": "NZa4ITvtdkMv",
        "colab_type": "code",
        "colab": {
          "base_uri": "https://localhost:8080/",
          "height": 218
        },
        "outputId": "b11f6a52-c5c5-4469-ea3a-4a2e3c1097a1"
      },
      "source": [
        "#Checking the training model\n",
        "print(y_train)"
      ],
      "execution_count": 66,
      "outputs": [
        {
          "output_type": "stream",
          "text": [
            "0      0\n",
            "1      1\n",
            "2      1\n",
            "3      1\n",
            "4      0\n",
            "      ..\n",
            "787    0\n",
            "788    1\n",
            "789    0\n",
            "790    0\n",
            "791    0\n",
            "Name: Survived, Length: 792, dtype: int64\n"
          ],
          "name": "stdout"
        }
      ]
    },
    {
      "cell_type": "code",
      "metadata": {
        "id": "FuYlzoQSdxzR",
        "colab_type": "code",
        "colab": {}
      },
      "source": [
        "#Applying the model on the dataset\n",
        "from sklearn.neighbors import KNeighborsClassifier as KNN\n",
        "from sklearn.linear_model import LogisticRegression\n",
        "from sklearn.tree import DecisionTreeClassifier\n",
        "from sklearn.svm import SVC"
      ],
      "execution_count": 67,
      "outputs": []
    },
    {
      "cell_type": "markdown",
      "metadata": {
        "id": "Nr6aGzCWezSA",
        "colab_type": "text"
      },
      "source": [
        "After applying all the split and importing the libraries its time to apply the model. "
      ]
    },
    {
      "cell_type": "code",
      "metadata": {
        "id": "-8zxz1n2XVug",
        "colab_type": "code",
        "colab": {
          "base_uri": "https://localhost:8080/",
          "height": 84
        },
        "outputId": "9747c8d8-a73b-4d4b-e068-fdf1ba25f0d2"
      },
      "source": [
        "#Applying Support vector model with linear model\n",
        "classifier = SVC(kernel = 'linear', random_state = 0)\n",
        "classifier.fit(X_train, y_train)"
      ],
      "execution_count": 68,
      "outputs": [
        {
          "output_type": "execute_result",
          "data": {
            "text/plain": [
              "SVC(C=1.0, break_ties=False, cache_size=200, class_weight=None, coef0=0.0,\n",
              "    decision_function_shape='ovr', degree=3, gamma='scale', kernel='linear',\n",
              "    max_iter=-1, probability=False, random_state=0, shrinking=True, tol=0.001,\n",
              "    verbose=False)"
            ]
          },
          "metadata": {
            "tags": []
          },
          "execution_count": 68
        }
      ]
    },
    {
      "cell_type": "code",
      "metadata": {
        "id": "lhP3aTiCXf9q",
        "colab_type": "code",
        "colab": {}
      },
      "source": [
        "#Predicting the values with the model built on linear kernel\n",
        "y_pred = classifier.predict(X_test)"
      ],
      "execution_count": 69,
      "outputs": []
    },
    {
      "cell_type": "code",
      "metadata": {
        "id": "sLx2xLkMbLCd",
        "colab_type": "code",
        "colab": {}
      },
      "source": [
        "# Get the separating hyperplane\n",
        "w = classifier.coef_[0]\n",
        "a = -w[0] / w[1]\n",
        "xx = np.linspace(30, 60)\n",
        "yy = a * xx - classifier.intercept_[0]/ w[1]\n",
        "\n",
        "# Plot the parallels to the separating hyperplane that pass through the support vectors\n",
        "b = classifier.support_vectors_[0]\n",
        "yy_down = a * xx + (b[1] - a * b[0])\n",
        "b = classifier.support_vectors_[-1]\n",
        "yy_up = a * xx + (b[1] - a * b[0])"
      ],
      "execution_count": 71,
      "outputs": []
    },
    {
      "cell_type": "code",
      "metadata": {
        "id": "vZuLDsxgGVBU",
        "colab_type": "code",
        "colab": {
          "base_uri": "https://localhost:8080/",
          "height": 265
        },
        "outputId": "308955c3-d666-4136-919e-72206c29459f"
      },
      "source": [
        "import matplotlib.pyplot as plt\n",
        "plt.scatter(y_test,y_pred);"
      ],
      "execution_count": 72,
      "outputs": [
        {
          "output_type": "display_data",
          "data": {
            "image/png": "[encoded data removed]",
            "text/plain": [
              "<Figure size 432x288 with 1 Axes>"
            ]
          },
          "metadata": {
            "tags": [],
            "needs_background": "light"
          }
        }
      ]
    },
    {
      "cell_type": "code",
      "metadata": {
        "id": "NUfFw8HqNLp8",
        "colab_type": "code",
        "colab": {
          "base_uri": "https://localhost:8080/",
          "height": 168
        },
        "outputId": "2e8adec6-eef0-4682-9fd5-ee01f97f3f12"
      },
      "source": [
        "#Classification report for model built with linear kernel\n",
        "from sklearn.metrics import classification_report\n",
        "print(classification_report(y_test, y_pred))"
      ],
      "execution_count": 75,
      "outputs": [
        {
          "output_type": "stream",
          "text": [
            "              precision    recall  f1-score   support\n",
            "\n",
            "           0       0.89      0.84      0.86        64\n",
            "           1       0.74      0.81      0.77        36\n",
            "\n",
            "    accuracy                           0.83       100\n",
            "   macro avg       0.81      0.82      0.82       100\n",
            "weighted avg       0.83      0.83      0.83       100\n",
            "\n"
          ],
          "name": "stdout"
        }
      ]
    },
    {
      "cell_type": "markdown",
      "metadata": {
        "id": "dBnPSENXS5HO",
        "colab_type": "text"
      },
      "source": [
        "Now using the kernel rbf for performing the support vector machine algotrithm to check and compare with the linear kernel of SVM"
      ]
    },
    {
      "cell_type": "code",
      "metadata": {
        "id": "ICAXMMnKR5tt",
        "colab_type": "code",
        "colab": {
          "base_uri": "https://localhost:8080/",
          "height": 84
        },
        "outputId": "d5f07e58-f018-4882-d7de-3199bf46d24a"
      },
      "source": [
        "#Applying Support vector model with rbf model\n",
        "classifier_rbf = SVC(kernel = 'rbf', random_state = 0)\n",
        "classifier_rbf.fit(X_train, y_train)"
      ],
      "execution_count": 83,
      "outputs": [
        {
          "output_type": "execute_result",
          "data": {
            "text/plain": [
              "SVC(C=1.0, break_ties=False, cache_size=200, class_weight=None, coef0=0.0,\n",
              "    decision_function_shape='ovr', degree=3, gamma='scale', kernel='rbf',\n",
              "    max_iter=-1, probability=False, random_state=0, shrinking=True, tol=0.001,\n",
              "    verbose=False)"
            ]
          },
          "metadata": {
            "tags": []
          },
          "execution_count": 83
        }
      ]
    },
    {
      "cell_type": "code",
      "metadata": {
        "id": "ybuuORJbSKp4",
        "colab_type": "code",
        "colab": {}
      },
      "source": [
        "#Predicting the values with the model built on linear kernel\n",
        "y_pred_rbf = classifier_rbf.predict(X_test)"
      ],
      "execution_count": 82,
      "outputs": []
    },
    {
      "cell_type": "code",
      "metadata": {
        "id": "5YpQE7gLSSR1",
        "colab_type": "code",
        "colab": {
          "base_uri": "https://localhost:8080/",
          "height": 168
        },
        "outputId": "12c69191-a6ef-4cea-96fd-b43f2cd2f9cc"
      },
      "source": [
        "#Classification report for model built with linear kernel\n",
        "print(classification_report(y_test, y_pred_rbf))"
      ],
      "execution_count": 81,
      "outputs": [
        {
          "output_type": "stream",
          "text": [
            "              precision    recall  f1-score   support\n",
            "\n",
            "           0       0.85      0.97      0.91        64\n",
            "           1       0.93      0.69      0.79        36\n",
            "\n",
            "    accuracy                           0.87       100\n",
            "   macro avg       0.89      0.83      0.85       100\n",
            "weighted avg       0.88      0.87      0.86       100\n",
            "\n"
          ],
          "name": "stdout"
        }
      ]
    },
    {
      "cell_type": "code",
      "metadata": {
        "id": "_qiRtY_ebK7M",
        "colab_type": "code",
        "colab": {
          "base_uri": "https://localhost:8080/",
          "height": 369
        },
        "outputId": "d1a5c7b6-3cdf-4c19-924a-e81881dadbad"
      },
      "source": [
        "# Plot the hyperplane\n",
        "sns.lmplot('Sex', 'Fare', data=test_data, hue='Survived', palette='Set1', fit_reg=False, scatter_kws={\"s\": 70})\n",
        "plt.plot(xx, yy, linewidth=2, color='black');"
      ],
      "execution_count": 20,
      "outputs": [
        {
          "output_type": "display_data",
          "data": {
            "image/png": "[encoded data removed]",
            "text/plain": [
              "<Figure size 411.875x360 with 1 Axes>"
            ]
          },
          "metadata": {
            "tags": [],
            "needs_background": "light"
          }
        }
      ]
    },
    {
      "cell_type": "markdown",
      "metadata": {
        "id": "fPXK_k0BfRoz",
        "colab_type": "text"
      },
      "source": [
        "Now as we have applied the SVM model with the C value and respective kernel it is important to find the best value so that our model can be trained more robustly. "
      ]
    },
    {
      "cell_type": "code",
      "metadata": {
        "id": "pqr39aoOiemm",
        "colab_type": "code",
        "colab": {}
      },
      "source": [
        "\n",
        "# Put models in dictionary to make function\n",
        "models = {\"Logistic Regression\": LogisticRegression(),\n",
        "         \"KNN\": KNN(n_neighbors = 7),\n",
        "         \"Decision\": DecisionTreeClassifier(criterion= 'entropy', max_depth= 10, min_samples_leaf=3, min_samples_split=14 ,random_state= 42),\n",
        "          \"SVM\": SVC(kernel = 'rbf', random_state = 0)}\n",
        "\n",
        "#Create a function to fit and score models\n",
        "def fit_and_score(models, X_train, X_test, y_train, y_test):\n",
        "    \n",
        "    \"\"\"\n",
        "    Fits and evaluate given machine learnin models.\n",
        "    models: A dict of different Scikit-larn machine learning models\n",
        "    X_train: training data\n",
        "    X_test: testinng data\n",
        "    y_train: traininng labels\n",
        "    y_test: test labels\n",
        "    \"\"\"\n",
        "    #set random seed\n",
        "    np.random.seed(42)\n",
        "    \n",
        "    #Make a dictionary to keep model scores\n",
        "    model_scores = {}\n",
        "    \n",
        "    #Loop through models\n",
        "    for name, model in models.items():\n",
        "        #Fit the model to the data\n",
        "        model.fit(X_train, y_train)\n",
        "        #Evaluate the model and append its score to model_scores\n",
        "        model_scores[name]=model.score(X_test, y_test)\n",
        "    return model_scores"
      ],
      "execution_count": 21,
      "outputs": []
    },
    {
      "cell_type": "code",
      "metadata": {
        "id": "vKZwdB_EjiNE",
        "colab_type": "code",
        "colab": {
          "base_uri": "https://localhost:8080/",
          "height": 34
        },
        "outputId": "5517fbab-b10d-43ad-c6d3-dfbd2e463c12"
      },
      "source": [
        "#Calculating the score\n",
        "model_scores = fit_and_score(models=models,\n",
        "                            X_train = X_train,\n",
        "                            X_test= X_test,\n",
        "                            y_train = y_train,\n",
        "                            y_test = y_test)\n",
        "model_scores"
      ],
      "execution_count": 22,
      "outputs": [
        {
          "output_type": "execute_result",
          "data": {
            "text/plain": [
              "{'Decision': 0.87, 'KNN': 0.82, 'Logistic Regression': 0.88, 'SVM': 0.87}"
            ]
          },
          "metadata": {
            "tags": []
          },
          "execution_count": 22
        }
      ]
    },
    {
      "cell_type": "code",
      "metadata": {
        "id": "mNp8xzBGRzIZ",
        "colab_type": "code",
        "colab": {}
      },
      "source": [
        "y_pred = classifier.predict(X_test)"
      ],
      "execution_count": null,
      "outputs": []
    },
    {
      "cell_type": "code",
      "metadata": {
        "id": "ANW0py3VkKMN",
        "colab_type": "code",
        "colab": {
          "base_uri": "https://localhost:8080/",
          "height": 351
        },
        "outputId": "485148c4-d43a-4791-d8f8-1ab2fb2d53e5"
      },
      "source": [
        "#Model comaprision\n",
        "model_compare = pd.DataFrame(model_scores, index = [\"accuracy\"])\n",
        "model_compare.T.plot.bar();"
      ],
      "execution_count": 23,
      "outputs": [
        {
          "output_type": "display_data",
          "data": {
            "image/png": "[encoded data removed]",
            "text/plain": [
              "<Figure size 432x288 with 1 Axes>"
            ]
          },
          "metadata": {
            "tags": [],
            "needs_background": "light"
          }
        }
      ]
    }
  ]
}